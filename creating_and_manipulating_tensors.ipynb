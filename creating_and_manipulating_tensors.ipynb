{
  "nbformat": 4,
  "nbformat_minor": 0,
  "metadata": {
    "colab": {
      "name": "creating_and_manipulating_tensors.ipynb",
      "version": "0.3.2",
      "provenance": [],
      "collapsed_sections": [
        "JndnmDMp66FL",
        "EYzU56M4MG_x",
        "Kt7aojXkR_qS"
      ],
      "include_colab_link": true
    },
    "kernelspec": {
      "name": "python2",
      "display_name": "Python 2"
    }
  },
  "cells": [
    {
      "cell_type": "markdown",
      "metadata": {
        "id": "view-in-github",
        "colab_type": "text"
      },
      "source": [
        "<a href=\"https://colab.research.google.com/github/kamazoun/100-days-of-ML-challenge/blob/master/creating_and_manipulating_tensors.ipynb\" target=\"_parent\"><img src=\"https://colab.research.google.com/assets/colab-badge.svg\" alt=\"Open In Colab\"/></a>"
      ]
    },
    {
      "metadata": {
        "colab_type": "text",
        "id": "JndnmDMp66FL"
      },
      "cell_type": "markdown",
      "source": [
        "#### Copyright 2017 Google LLC."
      ]
    },
    {
      "metadata": {
        "colab_type": "code",
        "id": "hMqWDc_m6rUC",
        "cellView": "both",
        "colab": {}
      },
      "cell_type": "code",
      "source": [
        "# Licensed under the Apache License, Version 2.0 (the \"License\");\n",
        "# you may not use this file except in compliance with the License.\n",
        "# You may obtain a copy of the License at\n",
        "#\n",
        "# https://www.apache.org/licenses/LICENSE-2.0\n",
        "#\n",
        "# Unless required by applicable law or agreed to in writing, software\n",
        "# distributed under the License is distributed on an \"AS IS\" BASIS,\n",
        "# WITHOUT WARRANTIES OR CONDITIONS OF ANY KIND, either express or implied.\n",
        "# See the License for the specific language governing permissions and\n",
        "# limitations under the License."
      ],
      "execution_count": 0,
      "outputs": []
    },
    {
      "metadata": {
        "colab_type": "text",
        "id": "P0bQXjp499sl"
      },
      "cell_type": "markdown",
      "source": [
        " # Créer et manipuler des Tensors"
      ]
    },
    {
      "metadata": {
        "colab_type": "text",
        "id": "I3BCiWJiCGsv"
      },
      "cell_type": "markdown",
      "source": [
        " **Objectifs de formation** :\n",
        "  * Initialiser et affecter des objets `Variable` TensorFlow\n",
        "  * Créer et manipuler des Tensors\n",
        "  * Rafraîchir ses connaissances sur les opérations de somme et de produit en algèbre linéaire (lecture conseillée de l'introduction à l'[addition](https://fr.wikipedia.org/wiki/Addition_matricielle) et au [produit](https://fr.wikipedia.org/wiki/Produit_matriciel) matriciels, si ces notions vous sont inconnues)\n",
        "  * Se familiariser avec les opérations mathématiques et de tableau basiques dans TensorFlow"
      ]
    },
    {
      "metadata": {
        "colab_type": "code",
        "id": "85evKRsOIC5a",
        "colab": {}
      },
      "cell_type": "code",
      "source": [
        "from __future__ import print_function\n",
        "\n",
        "import tensorflow as tf"
      ],
      "execution_count": 0,
      "outputs": []
    },
    {
      "metadata": {
        "colab_type": "text",
        "id": "PT1sorfH-DdQ"
      },
      "cell_type": "markdown",
      "source": [
        " ## Somme vectorielle\n",
        "\n",
        "Vous pouvez réaliser de nombreuses opérations mathématiques standards sur les Tensors (reportez-vous à l'[API TensorFlow](https://www.tensorflow.org/api_guides/python/math_ops)). Le code suivant permet de créer et de manipuler deux vecteurs (Tensors à une dimension), constitués chacun de six éléments :"
      ]
    },
    {
      "metadata": {
        "colab_type": "code",
        "id": "ng37e6ur-GZo",
        "colab": {
          "base_uri": "https://localhost:8080/",
          "height": 34
        },
        "outputId": "528b3896-e1db-4ba0-fd11-aa0ab4073efb"
      },
      "cell_type": "code",
      "source": [
        "with tf.Graph().as_default():\n",
        "  # Create a six-element vector (1-D tensor).\n",
        "  primes = tf.constant([2, 3, 5, 7, 11, 13], dtype=tf.int32)\n",
        "\n",
        "  # Create another six-element vector. Each element in the vector will be\n",
        "  # initialized to 1. The first argument is the shape of the tensor (more\n",
        "  # on shapes below).\n",
        "  ones = tf.ones([6], dtype=tf.int32)\n",
        "\n",
        "  # Add the two vectors. The resulting tensor is a six-element vector.\n",
        "  just_beyond_primes = tf.add(primes, ones)\n",
        "\n",
        "  # Create a session to run the default graph.\n",
        "  with tf.Session() as sess:\n",
        "    print(just_beyond_primes.eval())"
      ],
      "execution_count": 2,
      "outputs": [
        {
          "output_type": "stream",
          "text": [
            "[ 3  4  6  8 12 14]\n"
          ],
          "name": "stdout"
        }
      ]
    },
    {
      "metadata": {
        "colab_type": "text",
        "id": "fVvaXzzMGZid"
      },
      "cell_type": "markdown",
      "source": [
        " ### Formats de Tensor\n",
        "\n",
        "Le format caractérise la taille et le nombre de dimensions d'un Tensor. Il est indiqué sous la forme d'une liste, où le `i`e élément désigne la taille par rapport à la dimension `i`. La longueur de la liste indique le rang du Tensor (c'est-à-dire le nombre de dimensions).\n",
        "\n",
        "Pour en savoir plus, consultez la [documentation TensorFlow](https://www.tensorflow.org/programmers_guide/tensors#shape).\n",
        "\n",
        "Quelques exemples basiques :"
      ]
    },
    {
      "metadata": {
        "colab_type": "code",
        "id": "PWzvJnIAH_cF",
        "colab": {
          "base_uri": "https://localhost:8080/",
          "height": 134
        },
        "outputId": "4e1ec7ac-ca71-4f86-ce5a-52e26bc10992"
      },
      "cell_type": "code",
      "source": [
        "with tf.Graph().as_default():\n",
        "  # A scalar (0-D tensor).\n",
        "  scalar = tf.zeros([])\n",
        "\n",
        "  # A vector with 3 elements.\n",
        "  vector = tf.zeros([3])\n",
        "\n",
        "  # A matrix with 2 rows and 3 columns.\n",
        "  matrix = tf.zeros([2, 3])\n",
        "\n",
        "  with tf.Session() as sess:\n",
        "    print('scalar has shape', scalar.get_shape(), 'and value:\\n', scalar.eval())\n",
        "    print('vector has shape', vector.get_shape(), 'and value:\\n', vector.eval())\n",
        "    print('matrix has shape', matrix.get_shape(), 'and value:\\n', matrix.eval())\n"
      ],
      "execution_count": 3,
      "outputs": [
        {
          "output_type": "stream",
          "text": [
            "scalar has shape () and value:\n",
            " 0.0\n",
            "vector has shape (3,) and value:\n",
            " [0. 0. 0.]\n",
            "matrix has shape (2, 3) and value:\n",
            " [[0. 0. 0.]\n",
            " [0. 0. 0.]]\n"
          ],
          "name": "stdout"
        }
      ]
    },
    {
      "metadata": {
        "colab_type": "text",
        "id": "musamrLavR5S"
      },
      "cell_type": "markdown",
      "source": [
        " ### Broadcasting\n",
        "\n",
        "En mathématiques, les Tensors de format identique peuvent subir uniquement des opérations au niveau de l'élément (opérations *ajouter* et *égal*, par exemple). Dans TensorFlow, en revanche, il est possible de réaliser des opérations traditionnellement incompatibles. ce modèle autorise ainsi le **broadcasting** (un concept emprunté à Numpy), qui permet d'agrandir un petit tableau pour qu'il prenne le même format que le grand tableau. Exemples de possibilités offertes par le broadcasting :\n",
        "\n",
        "* Si une opération exige un Tensor de taille `[6]`, un Tensor de taille `[1]` ou `[]` peut être utilisé comme opérande.\n",
        "* Si une opération exige un Tensor de taille `[4, 6]`, vous pouvez utiliser comme opérande l'une des tailles de Tensor suivantes :\n",
        "  * `[1, 6]`\n",
        "  * `[6]`\n",
        "  * `[]`\n",
        "* Si une opération exige un Tensor de taille `[3, 5, 6]`, vous pouvez utiliser comme opérande l'une des tailles de Tensor suivantes :\n",
        "\n",
        "  * `[1, 5, 6]`\n",
        "  * `[3, 1, 6]`\n",
        "  * `[3, 5, 1]`\n",
        "  * `[1, 1, 1]`\n",
        "  * `[5, 6]`\n",
        "  * `[1, 6]`\n",
        "  * `[6]`\n",
        "  * `[1]`\n",
        "  * `[]`\n",
        "  \n",
        "**REMARQUE** : Lorsqu'un Tensor est broadcasté, ses entrées sont **copiées** de manière conceptuelle. (Elles ne sont pas réellement copiées, pour des raisons liées aux performances. Le broadcasting a été conçu comme un outil d'optimisation des performances.)\n",
        "\n",
        "La [documentation sur le broadcasting Numpy](http://docs.scipy.org/doc/numpy-1.10.1/user/basics.broadcasting.html), qui se veut facile d'accès, fournit une description détaillée de l'ensemble de règles de broadcasting.\n",
        "\n",
        "Le code suivant reprend l'opération de somme de Tensors précédente, cette fois avec le broadcasting :"
      ]
    },
    {
      "metadata": {
        "colab_type": "code",
        "id": "7lys_BeLy2SD",
        "colab": {
          "base_uri": "https://localhost:8080/",
          "height": 34
        },
        "outputId": "fb2d0938-22d2-4109-9c7c-cecf70850962"
      },
      "cell_type": "code",
      "source": [
        "with tf.Graph().as_default():\n",
        "  # Create a six-element vector (1-D tensor).\n",
        "  primes = tf.constant([2, 3, 5, 7, 11, 13], dtype=tf.int32)\n",
        "\n",
        "  # Create a constant scalar with value 1.\n",
        "  ones = tf.constant(1, dtype=tf.int32)\n",
        "\n",
        "  # Add the two tensors. The resulting tensor is a six-element vector.\n",
        "  just_beyond_primes = tf.add(primes, ones)\n",
        "\n",
        "  with tf.Session() as sess:\n",
        "    print(just_beyond_primes.eval())"
      ],
      "execution_count": 4,
      "outputs": [
        {
          "output_type": "stream",
          "text": [
            "[ 3  4  6  8 12 14]\n"
          ],
          "name": "stdout"
        }
      ]
    },
    {
      "metadata": {
        "colab_type": "text",
        "id": "it0P-AV0-Jb4"
      },
      "cell_type": "markdown",
      "source": [
        " ## Produit matriciel\n",
        "\n",
        "En algèbre linéaire, lorsque vous calculez le produit de deux matrices, le nombre de *colonnes* dans la première doit être égal au nombre de *lignes* dans la seconde.\n",
        "\n",
        "- Une matrice `3x4` **peut** être multipliée par une matrice `4x2`. Vous obtiendrez une matrice `3x2`.\n",
        "- Une matrice `4x2` **ne peut pas** être multipliée par une matrice `3x4`."
      ]
    },
    {
      "metadata": {
        "colab_type": "code",
        "id": "OVR8QPif-MeS",
        "colab": {
          "base_uri": "https://localhost:8080/",
          "height": 67
        },
        "outputId": "e06bd755-62cc-45f8-c164-b45a03311998"
      },
      "cell_type": "code",
      "source": [
        "with tf.Graph().as_default():\n",
        "  # Create a matrix (2-d tensor) with 3 rows and 4 columns.\n",
        "  x = tf.constant([[5, 2, 4, 3], [5, 1, 6, -2], [-1, 3, -1, -2]],\n",
        "                  dtype=tf.int32)\n",
        "\n",
        "  # Create a matrix with 4 rows and 2 columns.\n",
        "  y = tf.constant([[2, 2], [3, 5], [4, 5], [1, 6]], dtype=tf.int32)\n",
        "\n",
        "  # Multiply `x` by `y`. \n",
        "  # The resulting matrix will have 3 rows and 2 columns.\n",
        "  matrix_multiply_result = tf.matmul(x, y)\n",
        "\n",
        "  with tf.Session() as sess:\n",
        "    print(matrix_multiply_result.eval())"
      ],
      "execution_count": 5,
      "outputs": [
        {
          "output_type": "stream",
          "text": [
            "[[35 58]\n",
            " [35 33]\n",
            " [ 1 -4]]\n"
          ],
          "name": "stdout"
        }
      ]
    },
    {
      "metadata": {
        "colab_type": "text",
        "id": "fziRnmuy-O9x"
      },
      "cell_type": "markdown",
      "source": [
        " ## Modification du format des Tensors\n",
        "\n",
        "La somme de Tensors et le produit matriciel sont deux opérations qui imposent des contraintes spécifiques aux opérandes, obligeant ainsi les programmeurs TensorFlow à modifier régulièrement le format des Tensors. \n",
        "\n",
        "La méthode `tf.reshape` permet de modifier le format d'un Tensor. \n",
        "Ainsi, un Tensor 8x2 peut être converti en Tensor 2x8 ou 4x4 :"
      ]
    },
    {
      "metadata": {
        "colab_type": "code",
        "id": "L05ob6a_G77m",
        "colab": {
          "base_uri": "https://localhost:8080/",
          "height": 302
        },
        "outputId": "6c76d190-bcba-456d-fa2c-76e268ff6bbe"
      },
      "cell_type": "code",
      "source": [
        "with tf.Graph().as_default():\n",
        "  # Create an 8x2 matrix (2-D tensor).\n",
        "  matrix = tf.constant([[1,2], [3,4], [5,6], [7,8],\n",
        "                        [9,10], [11,12], [13, 14], [15,16]], dtype=tf.int32)\n",
        "\n",
        "  # Reshape the 8x2 matrix into a 2x8 matrix.\n",
        "  reshaped_2x8_matrix = tf.reshape(matrix, [2,8])\n",
        "  \n",
        "  # Reshape the 8x2 matrix into a 4x4 matrix\n",
        "  reshaped_4x4_matrix = tf.reshape(matrix, [4,4])\n",
        "\n",
        "  with tf.Session() as sess:\n",
        "    print(\"Original matrix (8x2):\")\n",
        "    print(matrix.eval())\n",
        "    print(\"Reshaped matrix (2x8):\")\n",
        "    print(reshaped_2x8_matrix.eval())\n",
        "    print(\"Reshaped matrix (4x4):\")\n",
        "    print(reshaped_4x4_matrix.eval())"
      ],
      "execution_count": 6,
      "outputs": [
        {
          "output_type": "stream",
          "text": [
            "Original matrix (8x2):\n",
            "[[ 1  2]\n",
            " [ 3  4]\n",
            " [ 5  6]\n",
            " [ 7  8]\n",
            " [ 9 10]\n",
            " [11 12]\n",
            " [13 14]\n",
            " [15 16]]\n",
            "Reshaped matrix (2x8):\n",
            "[[ 1  2  3  4  5  6  7  8]\n",
            " [ 9 10 11 12 13 14 15 16]]\n",
            "Reshaped matrix (4x4):\n",
            "[[ 1  2  3  4]\n",
            " [ 5  6  7  8]\n",
            " [ 9 10 11 12]\n",
            " [13 14 15 16]]\n"
          ],
          "name": "stdout"
        }
      ]
    },
    {
      "metadata": {
        "colab_type": "text",
        "id": "b6cFa92YGyU5"
      },
      "cell_type": "markdown",
      "source": [
        " \n",
        "Vous pouvez également utiliser `tf.reshape` pour modifier le nombre de dimensions (le \\'rang\\') d'un Tensor.\n",
        "Par exemple, le même Tensor 8x2 peut être converti en Tensor 2x2x4 à trois dimensions ou en Tensor une dimension de 16 éléments."
      ]
    },
    {
      "metadata": {
        "colab_type": "code",
        "id": "3MpcwWj9-Sqp",
        "colab": {
          "base_uri": "https://localhost:8080/",
          "height": 302
        },
        "outputId": "a15cf287-0a45-447a-d1a1-d5121273fc53"
      },
      "cell_type": "code",
      "source": [
        "with tf.Graph().as_default():\n",
        "  # Create an 8x2 matrix (2-D tensor).\n",
        "  matrix = tf.constant([[1,2], [3,4], [5,6], [7,8],\n",
        "                        [9,10], [11,12], [13, 14], [15,16]], dtype=tf.int32)\n",
        "\n",
        "  # Reshape the 8x2 matrix into a 3-D 2x2x4 tensor.\n",
        "  reshaped_2x2x4_tensor = tf.reshape(matrix, [2,2,4])\n",
        "  \n",
        "  # Reshape the 8x2 matrix into a 1-D 16-element tensor.\n",
        "  one_dimensional_vector = tf.reshape(matrix, [16])\n",
        "\n",
        "  with tf.Session() as sess:\n",
        "    print(\"Original matrix (8x2):\")\n",
        "    print(matrix.eval())\n",
        "    print(\"Reshaped 3-D tensor (2x2x4):\")\n",
        "    print(reshaped_2x2x4_tensor.eval())\n",
        "    print(\"1-D vector:\")\n",
        "    print(one_dimensional_vector.eval())"
      ],
      "execution_count": 7,
      "outputs": [
        {
          "output_type": "stream",
          "text": [
            "Original matrix (8x2):\n",
            "[[ 1  2]\n",
            " [ 3  4]\n",
            " [ 5  6]\n",
            " [ 7  8]\n",
            " [ 9 10]\n",
            " [11 12]\n",
            " [13 14]\n",
            " [15 16]]\n",
            "Reshaped 3-D tensor (2x2x4):\n",
            "[[[ 1  2  3  4]\n",
            "  [ 5  6  7  8]]\n",
            "\n",
            " [[ 9 10 11 12]\n",
            "  [13 14 15 16]]]\n",
            "1-D vector:\n",
            "[ 1  2  3  4  5  6  7  8  9 10 11 12 13 14 15 16]\n"
          ],
          "name": "stdout"
        }
      ]
    },
    {
      "metadata": {
        "colab_type": "text",
        "id": "CrpowaWo-VLq"
      },
      "cell_type": "markdown",
      "source": [
        " ### Exercice n° 1 : Modifier le format de deux Tensors pour les multiplier\n",
        "\n",
        "L'opération de produit matriciel est impossible sur les deux vecteurs suivants :\n",
        "\n",
        "  *  `a = tf.constant([5, 3, 2, 7, 1, 4])`\n",
        "  *  `b = tf.constant([4, 6, 3])`\n",
        "\n",
        "Modifiez leur format pour les convertir en opérandes compatibles avec l'opération de produit matriciel.\n",
        "Réalisez ensuite cette opération sur les Tensors ainsi modifiés."
      ]
    },
    {
      "metadata": {
        "colab_type": "code",
        "id": "p6idvaeK-Zxq",
        "colab": {
          "base_uri": "https://localhost:8080/",
          "height": 134
        },
        "outputId": "5ddce4ba-0f66-4e6f-a0e2-0e825a690698"
      },
      "cell_type": "code",
      "source": [
        "  # Write your code for Task 1 here.\n",
        "  \n",
        "  with tf.Graph().as_default():\n",
        "    # Operations pour créer les tensors\n",
        "    \n",
        "    # Vecteurs (1-D) constants\n",
        "    a = tf.constant([5, 3, 2, 7, 1, 4])\n",
        "    b = tf.constant([4, 6, 3])\n",
        "    \n",
        "    # Operation Reshape\n",
        "    a = tf.reshape(a, [6,1])\n",
        "    b = tf.reshape(b, [1,3])\n",
        "    \n",
        "    # Operation multiplication\n",
        "    result = tf.matmul(a, b)\n",
        "    \n",
        "    # Objet Session\n",
        "    with tf.Session() as sess:\n",
        "      print(\"Result:\")\n",
        "      print(result.eval())"
      ],
      "execution_count": 9,
      "outputs": [
        {
          "output_type": "stream",
          "text": [
            "Result:\n",
            "[[20 30 15]\n",
            " [12 18  9]\n",
            " [ 8 12  6]\n",
            " [28 42 21]\n",
            " [ 4  6  3]\n",
            " [16 24 12]]\n"
          ],
          "name": "stdout"
        }
      ]
    },
    {
      "metadata": {
        "colab_type": "text",
        "id": "EYzU56M4MG_x"
      },
      "cell_type": "markdown",
      "source": [
        " ### Solution\n",
        "\n",
        "Cliquez ci-dessous pour afficher la solution."
      ]
    },
    {
      "metadata": {
        "colab_type": "code",
        "id": "8Sef4d0SMMtk",
        "colab": {}
      },
      "cell_type": "code",
      "source": [
        "with tf.Graph().as_default(), tf.Session() as sess:\n",
        "  # Task: Reshape two tensors in order to multiply them\n",
        "  \n",
        "  # Here are the original operands, which are incompatible\n",
        "  # for matrix multiplication:\n",
        "  a = tf.constant([5, 3, 2, 7, 1, 4])\n",
        "  b = tf.constant([4, 6, 3])\n",
        "  # We need to reshape at least one of these operands so that\n",
        "  # the number of columns in the first operand equals the number\n",
        "  # of rows in the second operand.\n",
        "\n",
        "  # Reshape vector \"a\" into a 2-D 2x3 matrix:\n",
        "  reshaped_a = tf.reshape(a, [2,3])\n",
        "\n",
        "  # Reshape vector \"b\" into a 2-D 3x1 matrix:\n",
        "  reshaped_b = tf.reshape(b, [3,1])\n",
        "\n",
        "  # The number of columns in the first matrix now equals\n",
        "  # the number of rows in the second matrix. Therefore, you\n",
        "  # can matrix mutiply the two operands.\n",
        "  c = tf.matmul(reshaped_a, reshaped_b)\n",
        "  print(c.eval())\n",
        "\n",
        "  # An alternate approach: [6,1] x [1, 3] -> [6,3]"
      ],
      "execution_count": 0,
      "outputs": []
    },
    {
      "metadata": {
        "colab_type": "text",
        "id": "x1JYo7iE2oKk"
      },
      "cell_type": "markdown",
      "source": [
        " ## Variables, initialisation et affectation\n",
        "\n",
        "Les opérations réalisées jusqu'à maintenant portaient uniquement sur des valeurs statiques (`tf.constant`). L'appel de la méthode `eval()` renvoyait systématiquement le même résultat. Avec TensorFlow, vous pouvez définir des objets `Variable`, dont la valeur peut changer. \n",
        "\n",
        "Lors de la création d'une variable, vous avez le choix entre définir explicitement sa valeur initiale ou utiliser un initialiseur (comme pour une distribution) :"
      ]
    },
    {
      "metadata": {
        "colab_type": "code",
        "id": "6opLnjfD3PdL",
        "colab": {}
      },
      "cell_type": "code",
      "source": [
        "g = tf.Graph()\n",
        "with g.as_default():\n",
        "  # Create a variable with the initial value 3.\n",
        "  v = tf.Variable([3])\n",
        "\n",
        "  # Create a variable of shape [1], with a random initial value,\n",
        "  # sampled from a normal distribution with mean 1 and standard deviation 0.35.\n",
        "  w = tf.Variable(tf.random_normal([1], mean=1.0, stddev=0.35))"
      ],
      "execution_count": 0,
      "outputs": []
    },
    {
      "metadata": {
        "colab_type": "text",
        "id": "qDYRXHTA4PTB"
      },
      "cell_type": "markdown",
      "source": [
        " L'une des particularités de TensorFlow est que l'**initialisation des variables n'est pas automatique**. Ainsi, le bloc suivant renverra une erreur :"
      ]
    },
    {
      "metadata": {
        "colab_type": "code",
        "id": "d0OX1YRY5PTP",
        "colab": {
          "base_uri": "https://localhost:8080/",
          "height": 70
        },
        "outputId": "e6fa5611-3f71-4e05-d166-33f2ae6a64fd"
      },
      "cell_type": "code",
      "source": [
        "with g.as_default():\n",
        "  with tf.Session() as sess:\n",
        "    try:\n",
        "      v.eval()\n",
        "    except tf.errors.FailedPreconditionError as e:\n",
        "      print(\"Caught expected error: \", e)"
      ],
      "execution_count": 11,
      "outputs": [
        {
          "output_type": "stream",
          "text": [
            "Caught expected error:  Attempting to use uninitialized value Variable\n",
            "\t [[{{node _retval_Variable_0_0}} = _Retval[T=DT_INT32, index=0, _device=\"/job:localhost/replica:0/task:0/device:CPU:0\"](Variable)]]\n"
          ],
          "name": "stdout"
        }
      ]
    },
    {
      "metadata": {
        "colab_type": "text",
        "id": "v7_aT7Hr5rnC"
      },
      "cell_type": "markdown",
      "source": [
        " Le plus simple pour initialiser une variable consiste à appeler `global_variables_initializer`. La méthode `Session.run()` employée ici équivaut à `eval()`, à peu de chose près."
      ]
    },
    {
      "metadata": {
        "colab_type": "code",
        "id": "z2lvhrxI5zJF",
        "colab": {
          "base_uri": "https://localhost:8080/",
          "height": 50
        },
        "outputId": "1b492fa0-334e-4b9a-d1b1-520e24c002d7"
      },
      "cell_type": "code",
      "source": [
        "with g.as_default():\n",
        "  with tf.Session() as sess:\n",
        "    initialization = tf.global_variables_initializer()\n",
        "    sess.run(initialization)\n",
        "    # Now, variables can be accessed normally, and have values assigned to them.\n",
        "    print(v.eval())\n",
        "    print(w.eval())\n"
      ],
      "execution_count": 13,
      "outputs": [
        {
          "output_type": "stream",
          "text": [
            "[3]\n",
            "[0.8653025]\n"
          ],
          "name": "stdout"
        }
      ]
    },
    {
      "metadata": {
        "colab_type": "text",
        "id": "0GkYh7jf6JUd"
      },
      "cell_type": "markdown",
      "source": [
        " Une fois initialisées, les variables conservent leur valeur pour toute la session (il convient de les réinitialiser au démarrage d'une nouvelle session) :"
      ]
    },
    {
      "metadata": {
        "colab_type": "code",
        "id": "_E8_lhS06IoV",
        "colab": {
          "base_uri": "https://localhost:8080/",
          "height": 67
        },
        "outputId": "70ca03a1-020c-45b0-8f2d-8e8d7ac74ed8"
      },
      "cell_type": "code",
      "source": [
        "with g.as_default():\n",
        "  with tf.Session() as sess:\n",
        "    sess.run(tf.global_variables_initializer())\n",
        "    # These three prints will print the same value.\n",
        "    print(w.eval())\n",
        "    print(w.eval())\n",
        "    print(w.eval())"
      ],
      "execution_count": 14,
      "outputs": [
        {
          "output_type": "stream",
          "text": [
            "[0.24904889]\n",
            "[0.24904889]\n",
            "[0.24904889]\n"
          ],
          "name": "stdout"
        }
      ]
    },
    {
      "metadata": {
        "colab_type": "text",
        "id": "yrZ31hPw66uy"
      },
      "cell_type": "markdown",
      "source": [
        " Pour modifier la valeur d'une variable, utilisez l'opération `assign`. Créer simplement cette opération n'a aucun effet. Comme pour l'initialisation, vous devez exécuter l'opération d'affectation (via `run`) pour pouvoir mettre à jour la valeur de la variable :"
      ]
    },
    {
      "metadata": {
        "colab_type": "code",
        "id": "zD0D1DCR7NBX",
        "colab": {
          "base_uri": "https://localhost:8080/",
          "height": 67
        },
        "outputId": "aaf8db5c-3704-4167-a46e-638d7a3901f8"
      },
      "cell_type": "code",
      "source": [
        "with g.as_default():\n",
        "  with tf.Session() as sess:\n",
        "    sess.run(tf.global_variables_initializer())\n",
        "    # This should print the variable's initial value.\n",
        "    print(v.eval())\n",
        "\n",
        "    assignment = tf.assign(v, [7])\n",
        "    # The variable has not been changed yet!\n",
        "    print(v.eval())\n",
        "\n",
        "    # Execute the assignment op.\n",
        "    sess.run(assignment)\n",
        "    # Now the variable is updated.\n",
        "    print(v.eval())"
      ],
      "execution_count": 15,
      "outputs": [
        {
          "output_type": "stream",
          "text": [
            "[3]\n",
            "[3]\n",
            "[7]\n"
          ],
          "name": "stdout"
        }
      ]
    },
    {
      "metadata": {
        "colab_type": "text",
        "id": "tB78Zq4h78Zr"
      },
      "cell_type": "markdown",
      "source": [
        " Chargement, stockage… les thématiques autour des variables ne manquent pas. Pour en savoir plus sur un sujet non abordé dans cette formation, consultez la [documentation TensorFlow](https://www.tensorflow.org/programmers_guide/variables)."
      ]
    },
    {
      "metadata": {
        "colab_type": "text",
        "id": "iFIOcnfz_Oqw"
      },
      "cell_type": "markdown",
      "source": [
        " ### Exercice n° 2 : Simuler 10 lancers de deux dés\n",
        "\n",
        "Simulez un lancer de dés, qui génère un Tensor `10x3` à deux dimensions :\n",
        "\n",
        "  * Les colonnes `1` et `2` enregistrent un lancer de chaque dé.\n",
        "  * La colonne `3` contient la somme des colonnes `1` et `2`, sur la même ligne.\n",
        "\n",
        "Exemple de valeurs sur la première ligne :\n",
        "\n",
        "  * Colonne `1` : `4`\n",
        "  * Colonne `2` : `3`\n",
        "  * Colonne `3` : `7`\n",
        "\n",
        "Pour effectuer cet exercice, nous vous invitons à consulter la [documentation TensorFlow](https://www.tensorflow.org/api_guides/python/array_ops)."
      ]
    },
    {
      "metadata": {
        "colab_type": "code",
        "id": "ocwT0iXH-nhT",
        "colab": {
          "base_uri": "https://localhost:8080/",
          "height": 568
        },
        "outputId": "58133da6-9a88-4f08-eaf9-009092a99e95"
      },
      "cell_type": "code",
      "source": [
        "# Write your code for Task 2 here.\n",
        "with g.as_default():\n",
        "  with tf.Session() as sess:\n",
        "    \n",
        "    # Definir la variable matrix (2-D)\n",
        "    dices = tf.Variable(tf.zeros([10, 3]))\n",
        "    \n",
        "    for i in range(10):\n",
        "      for x in range(3):\n",
        "        v1 = tf.Variable(tf.random_normal([1], mean=1.0, stddev=0.35))\n",
        "        v2 = tf.Variable(tf.random_normal([1], mean=1.0, stddev=0.35))\n",
        "        #sess.run(v)\n",
        "        sess.run(tf.global_variables_initializer())\n",
        "        v3 = tf.add(v1, v2)\n",
        "        \n",
        "      dices = tf.add(dices, tf.constant(v1, v2, v3))\n",
        "\n",
        "    "
      ],
      "execution_count": 23,
      "outputs": [
        {
          "output_type": "error",
          "ename": "TypeError",
          "evalue": "ignored",
          "traceback": [
            "\u001b[0;31m\u001b[0m",
            "\u001b[0;31mTypeError\u001b[0mTraceback (most recent call last)",
            "\u001b[0;32m<ipython-input-23-2473767f906c>\u001b[0m in \u001b[0;36m<module>\u001b[0;34m()\u001b[0m\n\u001b[1;32m     13\u001b[0m         \u001b[0mv3\u001b[0m \u001b[0;34m=\u001b[0m \u001b[0mtf\u001b[0m\u001b[0;34m.\u001b[0m\u001b[0madd\u001b[0m\u001b[0;34m(\u001b[0m\u001b[0mv1\u001b[0m\u001b[0;34m,\u001b[0m \u001b[0mv2\u001b[0m\u001b[0;34m)\u001b[0m\u001b[0;34m\u001b[0m\u001b[0m\n\u001b[1;32m     14\u001b[0m \u001b[0;34m\u001b[0m\u001b[0m\n\u001b[0;32m---> 15\u001b[0;31m       \u001b[0mdices\u001b[0m \u001b[0;34m=\u001b[0m \u001b[0mtf\u001b[0m\u001b[0;34m.\u001b[0m\u001b[0madd\u001b[0m\u001b[0;34m(\u001b[0m\u001b[0mdices\u001b[0m\u001b[0;34m,\u001b[0m \u001b[0mtf\u001b[0m\u001b[0;34m.\u001b[0m\u001b[0mconstant\u001b[0m\u001b[0;34m(\u001b[0m\u001b[0mv1\u001b[0m\u001b[0;34m,\u001b[0m \u001b[0mv2\u001b[0m\u001b[0;34m,\u001b[0m \u001b[0mv3\u001b[0m\u001b[0;34m)\u001b[0m\u001b[0;34m)\u001b[0m\u001b[0;34m\u001b[0m\u001b[0m\n\u001b[0m\u001b[1;32m     16\u001b[0m \u001b[0;34m\u001b[0m\u001b[0m\n\u001b[1;32m     17\u001b[0m \u001b[0;34m\u001b[0m\u001b[0m\n",
            "\u001b[0;32m/usr/local/lib/python2.7/dist-packages/tensorflow/python/framework/constant_op.pyc\u001b[0m in \u001b[0;36mconstant\u001b[0;34m(value, dtype, shape, name, verify_shape)\u001b[0m\n\u001b[1;32m    206\u001b[0m   tensor_value.tensor.CopyFrom(\n\u001b[1;32m    207\u001b[0m       tensor_util.make_tensor_proto(\n\u001b[0;32m--> 208\u001b[0;31m           value, dtype=dtype, shape=shape, verify_shape=verify_shape))\n\u001b[0m\u001b[1;32m    209\u001b[0m   \u001b[0mdtype_value\u001b[0m \u001b[0;34m=\u001b[0m \u001b[0mattr_value_pb2\u001b[0m\u001b[0;34m.\u001b[0m\u001b[0mAttrValue\u001b[0m\u001b[0;34m(\u001b[0m\u001b[0mtype\u001b[0m\u001b[0;34m=\u001b[0m\u001b[0mtensor_value\u001b[0m\u001b[0;34m.\u001b[0m\u001b[0mtensor\u001b[0m\u001b[0;34m.\u001b[0m\u001b[0mdtype\u001b[0m\u001b[0;34m)\u001b[0m\u001b[0;34m\u001b[0m\u001b[0m\n\u001b[1;32m    210\u001b[0m   const_tensor = g.create_op(\n",
            "\u001b[0;32m/usr/local/lib/python2.7/dist-packages/tensorflow/python/framework/tensor_util.pyc\u001b[0m in \u001b[0;36mmake_tensor_proto\u001b[0;34m(values, dtype, shape, verify_shape)\u001b[0m\n\u001b[1;32m    403\u001b[0m \u001b[0;34m\u001b[0m\u001b[0m\n\u001b[1;32m    404\u001b[0m   \u001b[0;32mif\u001b[0m \u001b[0mdtype\u001b[0m\u001b[0;34m:\u001b[0m\u001b[0;34m\u001b[0m\u001b[0m\n\u001b[0;32m--> 405\u001b[0;31m     \u001b[0mdtype\u001b[0m \u001b[0;34m=\u001b[0m \u001b[0mdtypes\u001b[0m\u001b[0;34m.\u001b[0m\u001b[0mas_dtype\u001b[0m\u001b[0;34m(\u001b[0m\u001b[0mdtype\u001b[0m\u001b[0;34m)\u001b[0m\u001b[0;34m\u001b[0m\u001b[0m\n\u001b[0m\u001b[1;32m    406\u001b[0m \u001b[0;34m\u001b[0m\u001b[0m\n\u001b[1;32m    407\u001b[0m   is_quantized = (\n",
            "\u001b[0;32m/usr/local/lib/python2.7/dist-packages/tensorflow/python/framework/dtypes.pyc\u001b[0m in \u001b[0;36mas_dtype\u001b[0;34m(type_value)\u001b[0m\n\u001b[1;32m    710\u001b[0m             type_value, e))\n\u001b[1;32m    711\u001b[0m \u001b[0;34m\u001b[0m\u001b[0m\n\u001b[0;32m--> 712\u001b[0;31m   \u001b[0;32mraise\u001b[0m \u001b[0mTypeError\u001b[0m\u001b[0;34m(\u001b[0m\u001b[0;34m\"Cannot convert value %r to a TensorFlow DType.\"\u001b[0m \u001b[0;34m%\u001b[0m \u001b[0mtype_value\u001b[0m\u001b[0;34m)\u001b[0m\u001b[0;34m\u001b[0m\u001b[0m\n\u001b[0m",
            "\u001b[0;31mTypeError\u001b[0m: Cannot convert value <tf.Variable 'Variable_10:0' shape=(1,) dtype=float32_ref> to a TensorFlow DType."
          ]
        }
      ]
    },
    {
      "metadata": {
        "colab_type": "text",
        "id": "Kt7aojXkR_qS"
      },
      "cell_type": "markdown",
      "source": [
        " ### Solution\n",
        "\n",
        "Cliquez ci-dessous pour afficher la solution."
      ]
    },
    {
      "metadata": {
        "colab_type": "code",
        "id": "6UUluecQSCvr",
        "colab": {}
      },
      "cell_type": "code",
      "source": [
        "with tf.Graph().as_default(), tf.Session() as sess:\n",
        "  # Task 2: Simulate 10 throws of two dice. Store the results\n",
        "  # in a 10x3 matrix.\n",
        "\n",
        "  # We're going to place dice throws inside two separate\n",
        "  # 10x1 matrices. We could have placed dice throws inside\n",
        "  # a single 10x2 matrix, but adding different columns of\n",
        "  # the same matrix is tricky. We also could have placed\n",
        "  # dice throws inside two 1-D tensors (vectors); doing so\n",
        "  # would require transposing the result.\n",
        "  dice1 = tf.Variable(tf.random_uniform([10, 1],\n",
        "                                        minval=1, maxval=7,\n",
        "                                        dtype=tf.int32))\n",
        "  dice2 = tf.Variable(tf.random_uniform([10, 1],\n",
        "                                        minval=1, maxval=7,\n",
        "                                        dtype=tf.int32))\n",
        "\n",
        "  # We may add dice1 and dice2 since they share the same shape\n",
        "  # and size.\n",
        "  dice_sum = tf.add(dice1, dice2)\n",
        "\n",
        "  # We've got three separate 10x1 matrices. To produce a single\n",
        "  # 10x3 matrix, we'll concatenate them along dimension 1.\n",
        "  resulting_matrix = tf.concat(\n",
        "      values=[dice1, dice2, dice_sum], axis=1)\n",
        "\n",
        "  # The variables haven't been initialized within the graph yet,\n",
        "  # so let's remedy that.\n",
        "  sess.run(tf.global_variables_initializer())\n",
        "\n",
        "  print(resulting_matrix.eval())"
      ],
      "execution_count": 0,
      "outputs": []
    }
  ]
}