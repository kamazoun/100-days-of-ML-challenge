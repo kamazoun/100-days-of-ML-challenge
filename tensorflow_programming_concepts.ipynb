{
  "nbformat": 4,
  "nbformat_minor": 0,
  "metadata": {
    "colab": {
      "name": "tensorflow_programming_concepts.ipynb",
      "version": "0.3.2",
      "provenance": [],
      "collapsed_sections": [
        "JndnmDMp66FL",
        "Zep4W80H9awM"
      ],
      "include_colab_link": true
    },
    "kernelspec": {
      "name": "python2",
      "display_name": "Python 2"
    }
  },
  "cells": [
    {
      "cell_type": "markdown",
      "metadata": {
        "id": "view-in-github",
        "colab_type": "text"
      },
      "source": [
        "<a href=\"https://colab.research.google.com/github/kamazoun/100-days-of-ML-challenge/blob/master/tensorflow_programming_concepts.ipynb\" target=\"_parent\"><img src=\"https://colab.research.google.com/assets/colab-badge.svg\" alt=\"Open In Colab\"/></a>"
      ]
    },
    {
      "metadata": {
        "colab_type": "text",
        "id": "JndnmDMp66FL"
      },
      "cell_type": "markdown",
      "source": [
        "#### Copyright 2017 Google LLC."
      ]
    },
    {
      "metadata": {
        "colab_type": "code",
        "id": "hMqWDc_m6rUC",
        "cellView": "both",
        "colab": {}
      },
      "cell_type": "code",
      "source": [
        "# Licensed under the Apache License, Version 2.0 (the \"License\");\n",
        "# you may not use this file except in compliance with the License.\n",
        "# You may obtain a copy of the License at\n",
        "#\n",
        "# https://www.apache.org/licenses/LICENSE-2.0\n",
        "#\n",
        "# Unless required by applicable law or agreed to in writing, software\n",
        "# distributed under the License is distributed on an \"AS IS\" BASIS,\n",
        "# WITHOUT WARRANTIES OR CONDITIONS OF ANY KIND, either express or implied.\n",
        "# See the License for the specific language governing permissions and\n",
        "# limitations under the License."
      ],
      "execution_count": 0,
      "outputs": []
    },
    {
      "metadata": {
        "colab_type": "text",
        "id": "rFpcvnCJ4Xkf"
      },
      "cell_type": "markdown",
      "source": [
        " # Concepts de programmation de TensorFlow"
      ]
    },
    {
      "metadata": {
        "colab_type": "text",
        "id": "9IkBOsrNzahz"
      },
      "cell_type": "markdown",
      "source": [
        " **Objectifs de formation** :\n",
        "  * Découvrir les bases du modèle de programmation TensorFlow, en particulier les concepts suivants :\n",
        "    * Les Tensors\n",
        "    * Les opérations\n",
        "    * Les graphes\n",
        "    * Les sessions\n",
        "  * Développer un programme TensorFlow simple permettant de créer un graphe par défaut, ainsi qu'une session pour exécuter ce graphe"
      ]
    },
    {
      "metadata": {
        "colab_type": "text",
        "id": "YMG9mHPdzahz"
      },
      "cell_type": "markdown",
      "source": [
        " **Remarque** : Veuillez lire attentivement ce didacticiel. Le modèle de programmation TensorFlow diffère sans doute de ceux que vous avez pu rencontrer jusqu'à maintenant. Il peut donc ne pas être aussi intuitif que vous pouvez l'imaginer."
      ]
    },
    {
      "metadata": {
        "colab_type": "text",
        "id": "NzKsjX-ufyVY"
      },
      "cell_type": "markdown",
      "source": [
        " ## Présentation des concepts\n",
        "\n",
        "Le terme TensorFlow est dérivé du mot **Tensors**, qui désigne des tableaux de dimension arbitraire. TensorFlow permet d'utiliser des Tensors avec un nombre très élevé de dimensions. Ceci étant, vous utiliserez le plus souvent un ou plusieurs des Tensors de faible dimension ci-après :\n",
        "\n",
        "  * Un **scalaire** est un tableau à zéro dimension (Tensor d'ordre 0). Exemple : `\\'Salut\\'` ou `5`.\n",
        "  * Un **vecteur** est un tableau à une dimension (Tensor d'ordre 1). Exemple : `[2, 3, 5, 7, 11]` ou `[5]`.\n",
        "  * Une **matrice** est un tableau à deux dimensions (Tensor d'ordre 2). Exemple : `[[3.1, 8.2, 5.9][4.3, -2.7, 6.5]]`.\n",
        "\n",
        "Vous pouvez créer, supprimer et manipuler les Tensors au moyen d'**opérations**. Dans un programme TensorFlow standard, les lignes de code correspondent essentiellement à des opérations.\n",
        "\n",
        "Un **graphe** TensorFlow (aussi appelé **graphe de calcul** ou **graphe de flux de données**) désigne la représentation graphique d'une structure de données. De nombreux programmes TensorFlow sont constitués d'un seul graphe, mais il est tout à possible d'en créer plusieurs. Les nœuds du graphe représentent des opérations, tandis que les arêtes représentent des Tensors. Les Tensors passent d'un nœud à l'autre et subissent à chaque fois une opération. Le Tensor de sortie d'une opération devient souvent le Tensor d'entrée de l'opération suivante. TensorFlow repose sur un **modèle d'exécution paresseux** : les nœuds ne sont calculés qu'en cas de nécessité, en fonction des besoins des nœuds associés.\n",
        "\n",
        "Les Tensors sont enregistrés dans le graphe en tant que **constantes** ou **variables**. Comme vous pouvez l'imaginer, les constantes correspondent aux Tensors de valeur fixe. Les variables, elles, désignent les Tensors de valeur variable. Ce qui vous aura peut-être échappé, en revanche, c'est que les constantes et les variables s'ajoutent aux autres opérations du graphe. Ainsi, une constante est une opération renvoyant systématiquement la même valeur de Tensor, et une variable une opération renvoyant le Tensor qui lui a été affecté.\n",
        "\n",
        "Pour définir une constante, vous devez utiliser l'opérateur `tf.constant` et transmettre sa valeur. Par exemple :\n",
        "```\n",
        "  x = tf.constant([5.2])\n",
        "```\n",
        "\n",
        "De la même façon, le code suivant permet de créer une variable :\n",
        "```\n",
        "  y = tf.Variable([5])\n",
        "```\n",
        "\n",
        "Vous pouvez également créer la variable, puis lui affecter une valeur (une valeur par défaut doit être définie) :\n",
        "```\n",
        "  y = tf.Variable([0])\n",
        "  y = y.assign([5])\n",
        "```\n",
        "\n",
        "Après avoir défini plusieurs constantes ou variables, vous pouvez les combiner avec d'autres opérations (par exemple, `tf.add`). Lors de son évaluation, `tf.add` appelle les opérations `tf.constant` ou `tf.Variable` afin d'obtenir leur valeur, puis renvoie un nouveau Tensor correspondant à la somme de ces valeurs.\n",
        "\n",
        "Les graphes doivent être exécutés dans une **session** TensorFlow, qui maintient leur état :\n",
        "```\n",
        "with tf.Session() as sess:\n",
        "  initialization = tf.global_variables_initializer()\n",
        "  print(y.eval())\n",
        "```\n",
        "\n",
        "Les opérations `tf.Variable` doivent être initialisées explicitement en appelant `tf.global_variables_initializer` au début de la session, comme illustré ci-dessus.\n",
        "\n",
        "**Remarque** : Les graphes d'une session peuvent être exécutés sur plusieurs machines (à condition d'exécuter le programme sur un framework de calcul distribué). Pour en savoir plus, consultez la page [Distributed TensorFlow (Programme TensorFlow distribué)](https://www.tensorflow.org/deploy/distributed).\n",
        "### Résumé\n",
        "\n",
        "Le processus de programmation TensorFlow se divise en deux grandes étapes :\n",
        "1. Assemblage des constantes, variables et opérations sur un graphe\n",
        "2. Évaluation de ces constantes, variables et opérations au sein d'une session\n"
      ]
    },
    {
      "metadata": {
        "colab_type": "text",
        "id": "VL0yWNNdgBpG"
      },
      "cell_type": "markdown",
      "source": [
        " ## Créer un programme TensorFlow simple\n",
        "\n",
        "Voyons comment coder un programme TensorFlow simple afin d'ajouter deux constantes. "
      ]
    },
    {
      "metadata": {
        "colab_type": "text",
        "id": "mN4R0gmMzah3"
      },
      "cell_type": "markdown",
      "source": [
        " ### Définir des déclarations `import`\n",
        "\n",
        "Comme pour la quasi-totalité des programmes Python, la première étape consiste à définir des déclarations `import`.\n",
        "Évidemment, ces déclarations varient en fonction des fonctions auquel le programme TensorFlow doit accéder. Tout programme TensorFlow doit au moins contenir la déclaration `import tensorflow` :"
      ]
    },
    {
      "metadata": {
        "colab_type": "code",
        "id": "SDbi6heigEGA",
        "colab": {}
      },
      "cell_type": "code",
      "source": [
        "import tensorflow as tf"
      ],
      "execution_count": 0,
      "outputs": []
    },
    {
      "metadata": {
        "colab_type": "text",
        "id": "6RRT4YIA4fQd"
      },
      "cell_type": "markdown",
      "source": [
        " **N'oubliez pas d'exécuter le bloc de code qui précède (les déclarations `import`).**\n",
        "\n",
        "Autres déclarations `import` courantes :\n",
        "\n",
        "```\n",
        "import matplotlib.pyplot as plt # Visualisation d'un ensemble de données.\n",
        "import numpy as np              # Bibliothèque numérique Python de niveau inférieur.\n",
        "import pandas as pd             # Bibliothèque numérique Python de niveau supérieur.\n",
        "```"
      ]
    },
    {
      "metadata": {
        "colab_type": "text",
        "id": "1aNpvufRgbTD"
      },
      "cell_type": "markdown",
      "source": [
        " Le modèle TensorFlow propose un **graphe par défaut**. Nous vous recommandons cependant de créer votre propre `graphe` pour faciliter le suivi de son état (vous pouvez utiliser un `graphe` différent par cellule, par exemple)."
      ]
    },
    {
      "metadata": {
        "colab_type": "code",
        "id": "Md8ze8e9geMi",
        "colab": {
          "base_uri": "https://localhost:8080/",
          "height": 34
        },
        "outputId": "38b50b37-62c4-477c-fb3d-9c860b1c7d37"
      },
      "cell_type": "code",
      "source": [
        "from __future__ import print_function\n",
        "\n",
        "import tensorflow as tf\n",
        "\n",
        "# Create a graph.\n",
        "g = tf.Graph()\n",
        "\n",
        "# Establish the graph as the \"default\" graph.\n",
        "with g.as_default():\n",
        "  # Assemble a graph consisting of the following three operations:\n",
        "  #   * Two tf.constant operations to create the operands.\n",
        "  #   * One tf.add operation to add the two operands.\n",
        "  x = tf.constant(8, name=\"x_const\")\n",
        "  y = tf.constant(5, name=\"y_const\")\n",
        "  z = tf.constant(4, name=\"z_const\")\n",
        "  sum = tf.add(tf.add(x, y, name=\"x_y_sum\"), z, name=\"x_y_z_sum\")\n",
        "\n",
        "\n",
        "  # Now create a session.\n",
        "  # The session will run the default graph.\n",
        "  with tf.Session() as sess:\n",
        "    print(sum.eval())"
      ],
      "execution_count": 3,
      "outputs": [
        {
          "output_type": "stream",
          "text": [
            "17\n"
          ],
          "name": "stdout"
        }
      ]
    },
    {
      "metadata": {
        "colab_type": "text",
        "id": "7mSz5GVqggZy"
      },
      "cell_type": "markdown",
      "source": [
        " ## Exercice : Ajouter une troisième opérande\n",
        "\n",
        "Modifiez le code ci-dessus pour ajouter trois entiers, au lieu de deux :\n",
        "\n",
        "  1. Définissez un troisième entier scalaire de type constante (`z`), auquel vous affectez la valeur `4`.\n",
        "  2. Ajoutez `z` à l'opération `sum` pour réaliser une nouvelle addition.\n",
        "  \n",
        "  **Astuce** : Pour en savoir plus sur la signature de la fonction, consultez la documentation de l'API relative à [tf.add()](https://www.tensorflow.org/api_docs/python/tf/add).\n",
        "  \n",
        "  3. Exécutez de nouveau le bloc de code modifié. Obtenez-vous le bon total ?"
      ]
    },
    {
      "metadata": {
        "colab_type": "text",
        "id": "Zep4W80H9awM"
      },
      "cell_type": "markdown",
      "source": [
        " ### Solution\n",
        "\n",
        "Cliquez ci-dessous pour afficher la solution."
      ]
    },
    {
      "metadata": {
        "colab_type": "code",
        "id": "4OTZPqhS9kzu",
        "colab": {}
      },
      "cell_type": "code",
      "source": [
        "# Create a graph.\n",
        "g = tf.Graph()\n",
        "\n",
        "# Establish our graph as the \"default\" graph.\n",
        "with g.as_default():\n",
        "  # Assemble a graph consisting of three operations. \n",
        "  # (Creating a tensor is an operation.)\n",
        "  x = tf.constant(8, name=\"x_const\")\n",
        "  y = tf.constant(5, name=\"y_const\")\n",
        "  sum = tf.add(x, y, name=\"x_y_sum\")\n",
        "  \n",
        "  # Task 1: Define a third scalar integer constant z.\n",
        "  z = tf.constant(4, name=\"z_const\")\n",
        "  # Task 2: Add z to `sum` to yield a new sum.\n",
        "  new_sum = tf.add(sum, z, name=\"x_y_z_sum\")\n",
        "\n",
        "  # Now create a session.\n",
        "  # The session will run the default graph.\n",
        "  with tf.Session() as sess:\n",
        "    # Task 3: Ensure the program yields the correct grand total.\n",
        "    print(new_sum.eval())"
      ],
      "execution_count": 0,
      "outputs": []
    },
    {
      "metadata": {
        "colab_type": "text",
        "id": "BrlnLTesgywL"
      },
      "cell_type": "markdown",
      "source": [
        " ## En savoir plus\n",
        "\n",
        "Pour en apprendre davantage sur les graphes TensorFlow standards, reportez-vous au didacticiel suivant :\n",
        "\n",
        "  * [Ensemble de Mandelbrot](https://www.tensorflow.org/tutorials/non-ml/mandelbrot)"
      ]
    }
  ]
}