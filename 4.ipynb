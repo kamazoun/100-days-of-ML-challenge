{
  "nbformat": 4,
  "nbformat_minor": 0,
  "metadata": {
    "colab": {
      "name": "Untitled4.ipynb",
      "provenance": [],
      "authorship_tag": "ABX9TyNK5rw64LvFfOU4Rq/0mjiO",
      "include_colab_link": true
    },
    "kernelspec": {
      "name": "python3",
      "display_name": "Python 3"
    }
  },
  "cells": [
    {
      "cell_type": "markdown",
      "metadata": {
        "id": "view-in-github",
        "colab_type": "text"
      },
      "source": [
        "<a href=\"https://colab.research.google.com/github/kamazoun/100-days-of-ML-challenge/blob/master/4.ipynb\" target=\"_parent\"><img src=\"https://colab.research.google.com/assets/colab-badge.svg\" alt=\"Open In Colab\"/></a>"
      ]
    },
    {
      "cell_type": "markdown",
      "metadata": {
        "id": "GAkJYKxzVAbA"
      },
      "source": [
        "#DS from Scratch"
      ]
    },
    {
      "cell_type": "code",
      "metadata": {
        "id": "0TE3xZJUVeAG"
      },
      "source": [
        "class KMeans:\n",
        "  def __init__(self, k):\n",
        "    self.k = k\n",
        "    self.means = None\n",
        "\n",
        "  def classify(self, input):\n",
        "    return min(range(self.k), key=lambda i: squared_distance(input, self.means[i]))\n",
        "\n",
        "  def train(self, inputs):\n",
        "    self.means = random.sample(inputs, self.k)\n",
        "    assignments = None\n",
        "    while True:\n",
        "      new_assignments = map(self.classify, inputs)\n",
        "      if assignments == new_assignments:\n",
        "        return\n",
        "      for i in range(self.k):\n",
        "        i_points = [p for p, a in zip(inputs, assignments) if a == i]\n",
        "        if i_points:\n",
        "          self.means[i] = vector_mean(i_points)\n"
      ],
      "execution_count": 4,
      "outputs": []
    },
    {
      "cell_type": "code",
      "metadata": {
        "id": "wNiqYabduFL8"
      },
      "source": [
        ""
      ],
      "execution_count": null,
      "outputs": []
    }
  ]
}